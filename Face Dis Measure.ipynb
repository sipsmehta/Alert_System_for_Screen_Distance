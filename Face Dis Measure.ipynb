{
 "cells": [
  {
   "cell_type": "markdown",
   "id": "9e5d13fe",
   "metadata": {},
   "source": [
    "# Laptop Screen Distance Alert System By Sparsh Mehta"
   ]
  },
  {
   "cell_type": "markdown",
   "id": "962217ff",
   "metadata": {},
   "source": [
    "## Importing Necessary Libraries"
   ]
  },
  {
   "cell_type": "code",
   "execution_count": 1,
   "id": "9fc07fdd",
   "metadata": {},
   "outputs": [],
   "source": [
    "import cv2"
   ]
  },
  {
   "cell_type": "markdown",
   "id": "617239ed",
   "metadata": {},
   "source": [
    "## Declarartion of predefined variables"
   ]
  },
  {
   "cell_type": "code",
   "execution_count": 2,
   "id": "74dd9e72",
   "metadata": {},
   "outputs": [],
   "source": [
    "KNOWN_DISTANCE = 76.2  \n",
    "KNOWN_WIDTH = 14.3  \n",
    "GREEN = (0, 255, 0)\n",
    "RED = (0, 0, 255)\n",
    "WHITE = (255, 255, 255)\n",
    "fonts = cv2.FONT_HERSHEY_COMPLEX\n",
    "cap = cv2.VideoCapture(0)"
   ]
  },
  {
   "cell_type": "markdown",
   "id": "1ab74f8d",
   "metadata": {},
   "source": [
    "## Importing Cascade Library"
   ]
  },
  {
   "cell_type": "code",
   "execution_count": 3,
   "id": "57f62571",
   "metadata": {},
   "outputs": [],
   "source": [
    "face_detector = cv2.CascadeClassifier(\"haarcascade_frontalface_default.xml\")"
   ]
  },
  {
   "cell_type": "markdown",
   "id": "4f0a0f3f",
   "metadata": {},
   "source": [
    "## Defining the functions"
   ]
  },
  {
   "cell_type": "code",
   "execution_count": 4,
   "id": "5c8c011b",
   "metadata": {},
   "outputs": [],
   "source": [
    "def focal_length(measured_distance, real_width, width_in_rf_image):\n",
    "    focal_length_value = (width_in_rf_image * measured_distance) / real_width\n",
    "    return focal_length_value"
   ]
  },
  {
   "cell_type": "code",
   "execution_count": 5,
   "id": "2bfda181",
   "metadata": {},
   "outputs": [],
   "source": [
    "def distance_finder(focal_length, real_face_width, face_width_in_frame):\n",
    "    distance = (real_face_width * focal_length) / face_width_in_frame\n",
    "    return distance"
   ]
  },
  {
   "cell_type": "code",
   "execution_count": 6,
   "id": "6b908b6a",
   "metadata": {},
   "outputs": [],
   "source": [
    "def face_data(image):\n",
    "\n",
    "    face_width = 0\n",
    "    gray_image = cv2.cvtColor(image, cv2.COLOR_BGR2GRAY)\n",
    "    faces = face_detector.detectMultiScale(gray_image, 1.3, 5)\n",
    "    for (x, y, h, w) in faces:\n",
    "        cv2.rectangle(image, (x, y), (x + w, y + h), WHITE, 1)\n",
    "        face_width = w\n",
    "\n",
    "    return face_width"
   ]
  },
  {
   "cell_type": "markdown",
   "id": "a0b749d3",
   "metadata": {},
   "source": [
    "## Displaying the results"
   ]
  },
  {
   "cell_type": "code",
   "execution_count": 7,
   "id": "595b8538",
   "metadata": {},
   "outputs": [
    {
     "name": "stdout",
     "output_type": "stream",
     "text": [
      "1135.006993006993\n"
     ]
    }
   ],
   "source": [
    "ref_image = cv2.imread(\"Ref_image.png\")\n",
    "ref_image_face_width = face_data(ref_image)\n",
    "focal_length_found = focal_length(KNOWN_DISTANCE, KNOWN_WIDTH, ref_image_face_width)\n",
    "print(focal_length_found)\n",
    "while True:\n",
    "    _, frame = cap.read()\n",
    "    face_width_in_frame = face_data(frame)\n",
    "    if face_width_in_frame != 0:\n",
    "        Distance = distance_finder(focal_length_found, KNOWN_WIDTH, face_width_in_frame)\n",
    "        cv2.putText(\n",
    "            frame, f\"Distance = {round(Distance,2)} CM\", (50, 50), fonts, 1, (WHITE), 2\n",
    "        )\n",
    "        if(Distance<=50):\n",
    "            cv2.putText(\n",
    "            frame, f\"Kindly Sit away from screen\", (80, 80), fonts, 1, (RED), 2\n",
    "        )\n",
    "    cv2.imshow(\"frame\", frame)\n",
    "    if cv2.waitKey(1) == ord(\"q\"):\n",
    "        break\n",
    "cap.release()\n",
    "cv2.destroyAllWindows()\n"
   ]
  },
  {
   "cell_type": "code",
   "execution_count": null,
   "id": "c5b2f098",
   "metadata": {},
   "outputs": [],
   "source": []
  },
  {
   "cell_type": "code",
   "execution_count": null,
   "id": "efe18312",
   "metadata": {},
   "outputs": [],
   "source": []
  }
 ],
 "metadata": {
  "kernelspec": {
   "display_name": "Python 3 (ipykernel)",
   "language": "python",
   "name": "python3"
  },
  "language_info": {
   "codemirror_mode": {
    "name": "ipython",
    "version": 3
   },
   "file_extension": ".py",
   "mimetype": "text/x-python",
   "name": "python",
   "nbconvert_exporter": "python",
   "pygments_lexer": "ipython3",
   "version": "3.9.1"
  }
 },
 "nbformat": 4,
 "nbformat_minor": 5
}
